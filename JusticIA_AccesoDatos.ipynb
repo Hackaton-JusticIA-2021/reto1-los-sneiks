{
  "nbformat": 4,
  "nbformat_minor": 0,
  "metadata": {
    "colab": {
      "name": "JusticIA_AccesoDatos.ipynb",
      "provenance": [],
      "collapsed_sections": [],
      "include_colab_link": true
    },
    "kernelspec": {
      "name": "python3",
      "display_name": "Python 3"
    },
    "language_info": {
      "name": "python"
    }
  },
  "cells": [
    {
      "cell_type": "markdown",
      "metadata": {
        "id": "view-in-github",
        "colab_type": "text"
      },
      "source": [
        "<a href=\"https://colab.research.google.com/github/georgetegral/ModeloRepositorioJusticIA/blob/main/JusticIA_AccesoDatos.ipynb\" target=\"_parent\"><img src=\"https://colab.research.google.com/assets/colab-badge.svg\" alt=\"Open In Colab\"/></a>"
      ]
    },
    {
      "cell_type": "markdown",
      "metadata": {
        "id": "HU6ps-zkwXr6"
      },
      "source": [
        "## Instalar dependencias \n",
        "\n",
        "Se usarán las siguientes librerías:\n",
        "* pdf2image: Librería para convertir automáticamente archivos .pdf a .jpg.\n",
        "* pillow: Librería de imágenes de Python, se usa para manipular imágenes.\n",
        "* requests: Librería de llamadas http, se usa para llamar a los endpoints en Azure.\n",
        "* condacolab: Implementación de anaconda en Google Colab, requerido para instalar un requerimiento de pdf2image, \"poppler\".\n",
        "\n",
        "Finalmente, importamos drive de google.colab.\n",
        "\n",
        "Nota: cuando Anaconda se instala por primera vez, este reinicia el kernel automáticamente."
      ]
    },
    {
      "cell_type": "code",
      "metadata": {
        "colab": {
          "base_uri": "https://localhost:8080/"
        },
        "id": "4bZMUMbNwmel",
        "outputId": "73557a52-46ae-4057-c398-8b19f6260149"
      },
      "source": [
        "!pip install pdf2image\n",
        "!pip install pillow\n",
        "!pip install requests\n",
        "!pip install -q condacolab\n",
        "import condacolab\n",
        "condacolab.install()\n",
        "!conda install -c conda-forge poppler"
      ],
      "execution_count": 20,
      "outputs": [
        {
          "output_type": "stream",
          "text": [
            "Requirement already satisfied: pdf2image in /usr/local/lib/python3.7/site-packages (1.16.0)\n",
            "Requirement already satisfied: pillow in /usr/local/lib/python3.7/site-packages (from pdf2image) (8.3.1)\n",
            "Requirement already satisfied: pillow in /usr/local/lib/python3.7/site-packages (8.3.1)\n",
            "Requirement already satisfied: requests in /usr/local/lib/python3.7/site-packages (2.25.1)\n",
            "Requirement already satisfied: idna<3,>=2.5 in /usr/local/lib/python3.7/site-packages (from requests) (2.10)\n",
            "Requirement already satisfied: urllib3<1.27,>=1.21.1 in /usr/local/lib/python3.7/site-packages (from requests) (1.26.3)\n",
            "Requirement already satisfied: chardet<5,>=3.0.2 in /usr/local/lib/python3.7/site-packages (from requests) (4.0.0)\n",
            "Requirement already satisfied: certifi>=2017.4.17 in /usr/local/lib/python3.7/site-packages (from requests) (2021.5.30)\n",
            "✨🍰✨ Everything looks OK!\n",
            "Collecting package metadata (current_repodata.json): - \b\b\\ \b\b| \b\b/ \b\b- \b\b\\ \b\b| \b\b/ \b\b- \b\b\\ \b\b| \b\b/ \b\b- \b\b\\ \b\bdone\n",
            "Solving environment: / \b\b- \b\b\\ \b\b| \b\b/ \b\b- \b\b\\ \b\b| \b\b/ \b\b- \b\b\\ \b\b| \b\b/ \b\b- \b\b\\ \b\b| \b\b/ \b\b- \b\bdone\n",
            "\n",
            "# All requested packages already installed.\n",
            "\n"
          ],
          "name": "stdout"
        }
      ]
    },
    {
      "cell_type": "code",
      "metadata": {
        "colab": {
          "base_uri": "https://localhost:8080/"
        },
        "id": "QkbvXnl-6JER",
        "outputId": "67a64692-6c1a-466b-9fcf-43a7f9032347"
      },
      "source": [
        "from google.colab import drive\n",
        "drive.mount('/content/drive')"
      ],
      "execution_count": 21,
      "outputs": [
        {
          "output_type": "stream",
          "text": [
            "Drive already mounted at /content/drive; to attempt to forcibly remount, call drive.mount(\"/content/drive\", force_remount=True).\n"
          ],
          "name": "stdout"
        }
      ]
    },
    {
      "cell_type": "markdown",
      "metadata": {
        "id": "2ORRf0qK0Yx5"
      },
      "source": [
        "## Directorios\n",
        "Aquí se definen los directorios para el proceso, el primero es el directorio donde se encuentran las imágenes, y el segundo directorio es donde se almacenan las imágenes procesadas.\n",
        "\n",
        "Todas las imagenes dentro del directorio especificado se procesarán.\n",
        "\n",
        "Cada imagen se tarda entre 3 y 4 segundos para ser procesada.\n",
        "\n",
        "Recuerda poner el directorio con \"/\" al final."
      ]
    },
    {
      "cell_type": "code",
      "metadata": {
        "id": "k-opXlb70Wxh"
      },
      "source": [
        "#path = 'drive/MyDrive/Datos - Hackathon JusticIA/Expedientes/'\n",
        "path = 'drive/MyDrive/Colab Notebooks/RII AA Hackathon/imgtest2/'\n",
        "pathResult = 'drive/MyDrive/Colab Notebooks/RII AA Hackathon/imgtestresult2/'"
      ],
      "execution_count": 22,
      "outputs": []
    },
    {
      "cell_type": "markdown",
      "metadata": {
        "id": "midR-avi3gbi"
      },
      "source": [
        "## Copiar archivos\n",
        "Se copian los archivos del directorio 1 al directorio 2.\n",
        "\n",
        "Esto se hace para no alterar los archivos originales."
      ]
    },
    {
      "cell_type": "code",
      "metadata": {
        "colab": {
          "base_uri": "https://localhost:8080/"
        },
        "id": "K2wcNWLy3b1S",
        "outputId": "34a08e27-a6e9-4d43-b5e1-f83bd592c31c"
      },
      "source": [
        "from distutils.dir_util import copy_tree\n",
        "copy_tree(path, pathResult)"
      ],
      "execution_count": 23,
      "outputs": [
        {
          "output_type": "execute_result",
          "data": {
            "text/plain": [
              "['drive/MyDrive/Colab Notebooks/RII AA Hackathon/imgtestresult2/AGN_DFS_C.18_1_de_2_Cabrera_Arenas_Emma_pg-002.jpg',\n",
              " 'drive/MyDrive/Colab Notebooks/RII AA Hackathon/imgtestresult2/AGN_DFS_C.18_2_de_2_Cabrera_Arenas_Emma_pg-326.jpg',\n",
              " 'drive/MyDrive/Colab Notebooks/RII AA Hackathon/imgtestresult2/AGN_DFS_C.18_1_de_2_Cabrera_Arenas_Emma_pg-103.jpg',\n",
              " 'drive/MyDrive/Colab Notebooks/RII AA Hackathon/imgtestresult2/AGN_DFS_C.18_2_de_2_Cabrera_Arenas_Emma_pg-126.jpg',\n",
              " 'drive/MyDrive/Colab Notebooks/RII AA Hackathon/imgtestresult2/AGN_DFS_C.18_1_de_2_Cabrera_Arenas_Emma_pg-096.jpg',\n",
              " 'drive/MyDrive/Colab Notebooks/RII AA Hackathon/imgtestresult2/AGN_DFS_C.48_De_los_Rios_Merino_Alicia_pg-082.jpg',\n",
              " 'drive/MyDrive/Colab Notebooks/RII AA Hackathon/imgtestresult2/AGN_DFS_C.48_De_los_Rios_Merino_Alicia_pg-049.jpg',\n",
              " 'drive/MyDrive/Colab Notebooks/RII AA Hackathon/imgtestresult2/AGN_DFS_C.48_De_los_Rios_Merino_Alicia_pg-093.jpg',\n",
              " 'drive/MyDrive/Colab Notebooks/RII AA Hackathon/imgtestresult2/AGN_DFS_C.48_De_los_Rios_Merino_Alicia_pg-084.jpg',\n",
              " 'drive/MyDrive/Colab Notebooks/RII AA Hackathon/imgtestresult2/AGN_DFS_C.160_Murillo_de_Ramirez_Juventina_Martha_pg-005.jpg',\n",
              " 'drive/MyDrive/Colab Notebooks/RII AA Hackathon/imgtestresult2/AGN_DFS_C.160_Murillo_de_Ramirez_Juventina_Martha_pg-002.jpg',\n",
              " 'drive/MyDrive/Colab Notebooks/RII AA Hackathon/imgtestresult2/AGN_DFS_C.151_Morales_Lopez_Delia_pg-025.jpg',\n",
              " 'drive/MyDrive/Colab Notebooks/RII AA Hackathon/imgtestresult2/AGN_DFS_C.189_Padilla_Rivera_Rebeca_pg-001.jpg',\n",
              " 'drive/MyDrive/Colab Notebooks/RII AA Hackathon/imgtestresult2/AGN_DFS_C.184_Tecla_Parra_Violeta_pg-014.jpg',\n",
              " 'drive/MyDrive/Colab Notebooks/RII AA Hackathon/imgtestresult2/Ficheros_Brigada_Campesina_de_Ajusticiamiento_BCA_Brigada_Campesina_de_Ajusticiamiento-79-.JPG',\n",
              " 'drive/MyDrive/Colab Notebooks/RII AA Hackathon/imgtestresult2/Ficheros_ACNR_militantes_Olea_Castaneyra_Rafel_Olea_Castaneyra_Rafael,_ACNR-19-.JPG',\n",
              " 'drive/MyDrive/Colab Notebooks/RII AA Hackathon/imgtestresult2/AGN_DFS_C.240_Sanchez_Fuerte_Maria_Marcela_pg-000.jpg',\n",
              " 'drive/MyDrive/Colab Notebooks/RII AA Hackathon/imgtestresult2/Ficheros_FAR,_concentrado_general_FAR,_concentrado_general-157-.JPG',\n",
              " 'drive/MyDrive/Colab Notebooks/RII AA Hackathon/imgtestresult2/Ficheros_Detenidos_Desaparecidos_Perez_Lopez_Martha_Perez_Lopez_Martha-21-.JPG',\n",
              " 'drive/MyDrive/Colab Notebooks/RII AA Hackathon/imgtestresult2/Ficheros_Detenidos_Desaparecidos_Morales_Lopez_Delia_Morales_Lopez_Delia-23-.JPG',\n",
              " 'drive/MyDrive/Colab Notebooks/RII AA Hackathon/imgtestresult2/Ficheros_Represores_Martinez_Adame_Arturo_Martinez_Adame_Arturo-31-.JPG',\n",
              " 'drive/MyDrive/Colab Notebooks/RII AA Hackathon/imgtestresult2/Ficheros_PPUA_Fichas_PPUA,_Fichas-98-.JPG',\n",
              " 'drive/MyDrive/Colab Notebooks/RII AA Hackathon/imgtestresult2/Ficheros_Union_Campesina_Independiente,_fichas_UCI,_fichas-2-.JPG',\n",
              " 'drive/MyDrive/Colab Notebooks/RII AA Hackathon/imgtestresult2/Ficheros_UAG_76-11-16_a_77-03-19_UAG,_fichas-113-.JPG',\n",
              " 'drive/MyDrive/Colab Notebooks/RII AA Hackathon/imgtestresult2/Ficheros_UAG_73-10-29_a_73-12-07_UAG,_fichas-134-.JPG']"
            ]
          },
          "metadata": {},
          "execution_count": 23
        }
      ]
    },
    {
      "cell_type": "markdown",
      "metadata": {
        "id": "lKTDkcSD43ZV"
      },
      "source": [
        "## Verificar copiado\n",
        "\n",
        "Podemos verificar que se copiaron los archivos haciendo una muestra del segundo directorio."
      ]
    },
    {
      "cell_type": "code",
      "metadata": {
        "colab": {
          "base_uri": "https://localhost:8080/"
        },
        "id": "C-e99jygddE7",
        "outputId": "8f56c0a5-f4df-4eba-9b68-7a107d4f8b33"
      },
      "source": [
        "import PIL\n",
        "from glob import glob\n",
        "from random import sample\n",
        "\n",
        "files = glob(pathResult+'*.*')\n",
        "files = sample(files, 1)\n",
        "\n",
        "for file_name in files:\n",
        "    print(file_name)"
      ],
      "execution_count": 24,
      "outputs": [
        {
          "output_type": "stream",
          "text": [
            "drive/MyDrive/Colab Notebooks/RII AA Hackathon/imgtestresult2/Ficheros_UAG_76-11-16_a_77-03-19_UAG,_fichas-113-.JPG\n"
          ],
          "name": "stdout"
        }
      ]
    },
    {
      "cell_type": "markdown",
      "metadata": {
        "id": "UZ-roEer0LpY"
      },
      "source": [
        "# Métodos necesarios\n",
        "Se utilizarán los siguientes métodos en nuestro pipeline\n",
        "\n",
        "* checkValueField: Lee campos anidados de un json, con manejo de errores.\n",
        "\n",
        "* convertPdf: Usa un archivo .pdf y crea una copia en formato .jpg, y regresa el nombre de este nuevo archivo .jpg, usando la librería pdf2image.\n",
        "* orientationModel: Usando la librería requests, llama al modelo de orientación de documentos entrenado con Azure Custom Vision, este regresa la orientación de la imagen con una probabilidad. La orientación sigue ángulos según las agujas del reloj y regresa un número entero con el ángulo.\n",
        "  * 0: 0 grados, imagen recta.\n",
        "  * 90: 90 grados, imagen horizontal a la derecha.\n",
        "  * 180: 180 grados, imagen vertical boca abajo.\n",
        "  * 270: 270 grados, imagen horizontal a la izquierda.\n",
        "* rotateFile: Rota la imagen tomando en cuenta la orientación que recibió del método orientationModel, usa la librería PIL. Nota importante: PIL rota las imágenes en sentido contra-reloj.\n",
        "* removeExif: Método usado para eliminar los metadatos de los archivos .jpg conocidos como EXIF(Exchangeable Image File Format), se incluye específicamente porque algunas imágenes incluyen metadatos que indican el ángulo en el que se tomó la foto, lo cual interfiere con los servicios de orientación y rotación. Se corre para cada imagen antes de hacer todo el proceso.\n",
        "* getImageSize: Obtiene el ancho y la altura de una imagen, usando la librería PIL.\n",
        "* roundNum: Redondea un número, si su decimal es >= .5 lo redondea para arriba, de lo contrario lo redondea para abajo.\n",
        "* calculateBoundingBox: Convierte coordenadas de Bounding Box (Left, Top, Width, Height) junto con el ancho y el alto de la imagen base al formato necesario para los resultados (xmin, ymin, xmax, ymax)\n",
        "* objectDetectionModel: Usando la librería requests, llama al modelo de detección de objetos entrenado con Azure Custom Vision, iteración 3. Regresa todos los objetos en rectángulos con coordenadas, e une los resultados en un diccionario final, filtrando los que no cumplan con una probabilidad mínima.\n",
        "* checkDetectionModel: Usando la librería requests, llama al modelo de detección de objetos entrenado con Azure Custom Vision, iteración 4. Regresa todos los objetos en rectángulos con coordenadas, e une los resultados en un diccionario final, filtrando los que no cumplan con una probabilidad mínima y filtrando los que sus tags no sean \"check\" esto porque esta iteración 4 del modelo fue la mejor para detectar estos objetos.\n",
        "* createCsv: Crea el csv de resultados con sus headers\n",
        "* appendCsv: Agrega los resultados de cada archivo al csv de resultados\n",
        "\n"
      ]
    },
    {
      "cell_type": "code",
      "metadata": {
        "id": "9jv6Amhw1awy"
      },
      "source": [
        "import os\n",
        "from PIL import Image\n",
        "from pdf2image import convert_from_path\n",
        "from math import ceil, floor\n",
        "import requests\n",
        "import json\n",
        "import csv\n",
        "import time\n",
        "\n",
        "#Function to check if returned JSON has all the necessary fields in each nested field of the JSON\n",
        "def checkValueField(rs,field,i,var):\n",
        "    val = \"\"\n",
        "    try:\n",
        "        val = rs[field][i][var]\n",
        "    except ValueError:\n",
        "        val = \"\"\n",
        "    except KeyError:\n",
        "        val = \"\"\n",
        "    finally:\n",
        "        return val\n",
        "\n",
        "def convertPdf(path, file):\n",
        "    s = time.perf_counter()\n",
        "    fullpath = path + file\n",
        "    images = convert_from_path(fullpath)\n",
        "    name = file.split('.pdf')[0]\n",
        "    nameJpg = name +'.jpg'\n",
        "    for i in range(len(images)):\n",
        "        # Save pages as images in the pdf\n",
        "        images[i].save(path + nameJpg, 'JPEG')\n",
        "    print(f'convertPdf in {time.perf_counter() - s:0.2f} seconds.')\n",
        "    return nameJpg\n",
        "\n",
        "def orientationModel(path, file):\n",
        "    s = time.perf_counter()\n",
        "    #Request to orientation model\n",
        "    with open(path+file, 'rb') as f:\n",
        "        data = f.read()\n",
        "    req = requests.post(\n",
        "        url=\"https://cscvriia-prediction.cognitiveservices.azure.com/customvision/v3.0/Prediction/2bb8fee1-6413-418c-9c6e-3c41629397ce/classify/iterations/Iteration2/image\",\n",
        "        headers={\n",
        "            \"Content-Type\": \"application/octet-stream\",\n",
        "            \"Prediction-Key\": \"bac8aef998f94f04b527450124a7864a\"\n",
        "        },\n",
        "        data = data\n",
        "    )\n",
        "    result = json.loads(req.content)\n",
        "    tag = result['predictions'][0]['tagName']\n",
        "    print(f'orientationModel in {time.perf_counter() - s:0.2f} seconds.')\n",
        "    return int(tag)\n",
        "\n",
        "def rotateFile(path, file, orientation):\n",
        "    fullpath = path + file\n",
        "    im = Image.open(fullpath)\n",
        "\n",
        "    if orientation == 90:\n",
        "        im = im.transpose(Image.ROTATE_90)\n",
        "        im.save(fullpath,'JPEG')\n",
        "\n",
        "    elif orientation == 180:\n",
        "        im = im.transpose(Image.ROTATE_180)\n",
        "        im.save(fullpath,'JPEG')\n",
        "\n",
        "    elif orientation == 270:\n",
        "        im = im.transpose(Image.ROTATE_270)\n",
        "        im.save(fullpath,'JPEG')\n",
        "\n",
        "def removeExif(path, file):\n",
        "    s = time.perf_counter()\n",
        "\n",
        "    fullpath = path + file\n",
        "    try:\n",
        "      im = Image.open(fullpath)\n",
        "      # next 4 lines strip exif metadata\n",
        "      data = list(im.getdata())\n",
        "      im = Image.new(im.mode, im.size)\n",
        "      im.putdata(data)\n",
        "      im.save(fullpath)\n",
        "    except IOError:\n",
        "      return\n",
        "    \n",
        "    print(f'removeExif in {time.perf_counter() - s:0.2f} seconds.')\n",
        "\n",
        "def getImageSize(path, file):\n",
        "    im = Image.open(path+file)\n",
        "    return int(im.width),int(im.height)\n",
        "\n",
        "def roundNum(num):\n",
        "    decimal = num % 1\n",
        "    if decimal >= .5:\n",
        "        return ceil(num)\n",
        "    else:\n",
        "        return floor(num)\n",
        "\n",
        "def calculateBoundingBox(left, top, width, height, widthImg, heightImg):\n",
        "    #https://stackoverflow.com/questions/53737055/bounding-box-left-top-height-width-to-php-x1-x2-y1-y2-coordinates\n",
        "    w = widthImg *  width\n",
        "    h = heightImg * height\n",
        "\n",
        "    xmin = left * widthImg\n",
        "    ymin = top * heightImg\n",
        "    xmax = xmin + w\n",
        "    ymax = ymin + h\n",
        "\n",
        "    return roundNum(xmin), roundNum(ymin), roundNum(xmax), roundNum(ymax)\n",
        "\n",
        "def objectDetectionModel(path, file, width, height):\n",
        "    s = time.perf_counter()\n",
        "    #request to Object Detection Model\n",
        "    with open(path+file, 'rb') as f:\n",
        "        data = f.read()\n",
        "    req = requests.post(\n",
        "        url=\"https://cscvriia-prediction.cognitiveservices.azure.com/customvision/v3.0/Prediction/c2380253-45d3-4804-9c76-093802973de6/detect/iterations/Iteration3/image\",\n",
        "        headers={\n",
        "            \"Content-Type\": \"application/octet-stream\",\n",
        "            \"Prediction-Key\": \"bac8aef998f94f04b527450124a7864a\"\n",
        "        },\n",
        "        data = data\n",
        "    )\n",
        "    result = json.loads(req.content)\n",
        "    finalResult = {}\n",
        "    #Ignore probability below 0.5\n",
        "    i = 0\n",
        "    acum = 0\n",
        "    while checkValueField(result,'predictions',i,'probability'):\n",
        "        probability = checkValueField(result,'predictions',i,'probability')\n",
        "        if probability >= 0.5:\n",
        "            tagName = checkValueField(result,'predictions',i,'tagName')\n",
        "            boundingBoxLeft = result['predictions'][i]['boundingBox']['left']\n",
        "            boundingBoxTop = result['predictions'][i]['boundingBox']['top']\n",
        "            boundingBoxWidth = result['predictions'][i]['boundingBox']['width']\n",
        "            boundingBoxHeight = result['predictions'][i]['boundingBox']['height']\n",
        "            xmin, ymin, xmax, ymax = calculateBoundingBox(boundingBoxLeft, boundingBoxTop, boundingBoxWidth, boundingBoxHeight, width, height)\n",
        "            finalResult[acum] = [tagName, probability, xmin, ymin, xmax, ymax]\n",
        "            acum += 1\n",
        "        \n",
        "        i += 1\n",
        "\n",
        "    print(f'objectDetectionModel in {time.perf_counter() - s:0.2f} seconds.')\n",
        "    return finalResult\n",
        "\n",
        "def checkDetectionModel(path, file, width, height, finalResult):\n",
        "    s = time.perf_counter()\n",
        "    #request to check Detection Model\n",
        "    with open(path+file, 'rb') as f:\n",
        "        data = f.read()\n",
        "    req = requests.post(\n",
        "        url=\"https://cscvriia-prediction.cognitiveservices.azure.com/customvision/v3.0/Prediction/c2380253-45d3-4804-9c76-093802973de6/detect/iterations/Iteration4/image\",\n",
        "        headers={\n",
        "            \"Content-Type\": \"application/octet-stream\",\n",
        "            \"Prediction-Key\": \"bac8aef998f94f04b527450124a7864a\"\n",
        "        },\n",
        "        data = data\n",
        "    )\n",
        "    result = json.loads(req.content)\n",
        "    \n",
        "    acum = 0\n",
        "    for i in finalResult:\n",
        "      acum += 1\n",
        "\n",
        "    #Ignore probability below 0.5\n",
        "    i = 0\n",
        "    while checkValueField(result,'predictions',i,'probability'):\n",
        "        probability = checkValueField(result,'predictions',i,'probability')\n",
        "        tagName = checkValueField(result,'predictions',i,'tagName')\n",
        "        if probability >= 0.5 and tagName == \"check\":\n",
        "            boundingBoxLeft = result['predictions'][i]['boundingBox']['left']\n",
        "            boundingBoxTop = result['predictions'][i]['boundingBox']['top']\n",
        "            boundingBoxWidth = result['predictions'][i]['boundingBox']['width']\n",
        "            boundingBoxHeight = result['predictions'][i]['boundingBox']['height']\n",
        "            xmin, ymin, xmax, ymax = calculateBoundingBox(boundingBoxLeft, boundingBoxTop, boundingBoxWidth, boundingBoxHeight, width, height)\n",
        "            finalResult[acum] = [tagName, probability, xmin, ymin, xmax, ymax]\n",
        "            acum += 1\n",
        "        \n",
        "        i += 1\n",
        "\n",
        "    print(f'checkDetectionModel in {time.perf_counter() - s:0.2f} seconds.')\n",
        "    return finalResult\n",
        "\n",
        "def createCsv(csvname, prefix):\n",
        "    with open(prefix+csvname, 'w', newline='') as file:\n",
        "        writer = csv.writer(file)\n",
        "        writer.writerow(['filename','width','height','class','xmin','ymin','xmax','ymax'])\n",
        "\n",
        "def appendCsv(csvname, filename, width, height, result,prefix):\n",
        "    with open(prefix+csvname, 'a+', newline='') as file:\n",
        "        writer = csv.writer(file)\n",
        "        #For loop each result\n",
        "        for i in result:\n",
        "            writer.writerow([filename, width, height, result[i][0], result[i][2], result[i][3], result[i][4], result[i][5]])"
      ],
      "execution_count": 25,
      "outputs": []
    },
    {
      "cell_type": "markdown",
      "metadata": {
        "id": "PIDPP31B6f_k"
      },
      "source": [
        "# Pipeline principal"
      ]
    },
    {
      "cell_type": "code",
      "metadata": {
        "colab": {
          "base_uri": "https://localhost:8080/"
        },
        "id": "GHIQQ1WXdqUh",
        "outputId": "2ef03ae8-e6ae-4136-f86f-01d6001f3a83"
      },
      "source": [
        "s = time.perf_counter()\n",
        "\n",
        "list_of_files = []\n",
        "prefix = pathResult\n",
        "\n",
        "#Initializing suffix list\n",
        "suff_list = ['.jpg', '.pdf', '.JPG']\n",
        "\n",
        "#Leer todos los archivos del directorio que terminen con los sufijos aprobados\n",
        "for root, dirs, files in os.walk(prefix):\n",
        "    for file in files:\n",
        "        if not file.endswith(tuple(suff_list)):\n",
        "            continue\n",
        "        list_of_files.append(os.path.join(file))\n",
        "\n",
        "#Eliminar metadata de las imágenes\n",
        "for file in list_of_files:\n",
        "    removeExif(prefix, file)\n",
        "\n",
        "#El csv de resultados se guarda en el mismo directorio\n",
        "createCsv('resultados.csv',prefix)\n",
        "\n",
        "for file in list_of_files:\n",
        "    #Si el archivo es pdf, convertirlo a jpg\n",
        "    if file.endswith('.pdf'):\n",
        "        file = convertPdf(prefix, file)\n",
        "    #Obtener la orientacion del archivo y rotar la imagen\n",
        "    #orientation = orientationModel(prefix, file)\n",
        "    #rotateFile(prefix, file, orientation)\n",
        "\n",
        "    #Obtener ancho y largo de la foto\n",
        "    width, height = getImageSize(prefix, file)\n",
        "    #Llamar al modelo de detección de objetos\n",
        "    result = objectDetectionModel(prefix, file, width, height)\n",
        "    #Llamar al modelo de detección de check\n",
        "    result = checkDetectionModel(prefix, file, width, height, result)\n",
        "    #Adjuntar a un csv\n",
        "    appendCsv('resultados.csv', file, width, height, result,prefix)\n",
        "    print(file)\n",
        "    print(\"----------\")\n",
        "\n",
        "\n",
        "print(f'finished in {time.perf_counter() - s:0.2f} seconds.')"
      ],
      "execution_count": 27,
      "outputs": [
        {
          "output_type": "stream",
          "text": [
            "removeExif in 0.52 seconds.\n",
            "removeExif in 2.18 seconds.\n",
            "removeExif in 0.52 seconds.\n",
            "removeExif in 2.19 seconds.\n",
            "removeExif in 0.52 seconds.\n",
            "removeExif in 2.14 seconds.\n",
            "removeExif in 2.18 seconds.\n",
            "removeExif in 2.18 seconds.\n",
            "removeExif in 2.22 seconds.\n",
            "removeExif in 2.18 seconds.\n",
            "removeExif in 2.18 seconds.\n",
            "removeExif in 2.20 seconds.\n",
            "removeExif in 2.19 seconds.\n",
            "removeExif in 2.21 seconds.\n",
            "removeExif in 4.05 seconds.\n",
            "removeExif in 3.93 seconds.\n",
            "removeExif in 2.17 seconds.\n",
            "removeExif in 1.96 seconds.\n",
            "removeExif in 3.89 seconds.\n",
            "removeExif in 1.01 seconds.\n",
            "removeExif in 3.92 seconds.\n",
            "removeExif in 3.91 seconds.\n",
            "removeExif in 3.93 seconds.\n",
            "removeExif in 1.02 seconds.\n",
            "removeExif in 3.97 seconds.\n",
            "objectDetectionModel in 1.17 seconds.\n",
            "checkDetectionModel in 1.17 seconds.\n",
            "AGN_DFS_C.18_1_de_2_Cabrera_Arenas_Emma_pg-002.jpg\n",
            "----------\n",
            "objectDetectionModel in 1.16 seconds.\n",
            "checkDetectionModel in 2.53 seconds.\n",
            "AGN_DFS_C.18_2_de_2_Cabrera_Arenas_Emma_pg-326.jpg\n",
            "----------\n",
            "objectDetectionModel in 1.23 seconds.\n",
            "checkDetectionModel in 1.25 seconds.\n",
            "AGN_DFS_C.18_1_de_2_Cabrera_Arenas_Emma_pg-103.jpg\n",
            "----------\n",
            "objectDetectionModel in 1.16 seconds.\n",
            "checkDetectionModel in 1.54 seconds.\n",
            "AGN_DFS_C.18_2_de_2_Cabrera_Arenas_Emma_pg-126.jpg\n",
            "----------\n",
            "objectDetectionModel in 1.01 seconds.\n",
            "checkDetectionModel in 1.44 seconds.\n",
            "AGN_DFS_C.18_1_de_2_Cabrera_Arenas_Emma_pg-096.jpg\n",
            "----------\n",
            "objectDetectionModel in 1.08 seconds.\n",
            "checkDetectionModel in 2.30 seconds.\n",
            "AGN_DFS_C.48_De_los_Rios_Merino_Alicia_pg-082.jpg\n",
            "----------\n",
            "objectDetectionModel in 1.34 seconds.\n",
            "checkDetectionModel in 1.81 seconds.\n",
            "AGN_DFS_C.48_De_los_Rios_Merino_Alicia_pg-049.jpg\n",
            "----------\n",
            "objectDetectionModel in 1.17 seconds.\n",
            "checkDetectionModel in 1.60 seconds.\n",
            "AGN_DFS_C.48_De_los_Rios_Merino_Alicia_pg-093.jpg\n",
            "----------\n",
            "objectDetectionModel in 1.31 seconds.\n",
            "checkDetectionModel in 1.81 seconds.\n",
            "AGN_DFS_C.48_De_los_Rios_Merino_Alicia_pg-084.jpg\n",
            "----------\n",
            "objectDetectionModel in 1.05 seconds.\n",
            "checkDetectionModel in 1.58 seconds.\n",
            "AGN_DFS_C.160_Murillo_de_Ramirez_Juventina_Martha_pg-005.jpg\n",
            "----------\n",
            "objectDetectionModel in 1.35 seconds.\n",
            "checkDetectionModel in 1.33 seconds.\n",
            "AGN_DFS_C.160_Murillo_de_Ramirez_Juventina_Martha_pg-002.jpg\n",
            "----------\n",
            "objectDetectionModel in 1.26 seconds.\n",
            "checkDetectionModel in 1.57 seconds.\n",
            "AGN_DFS_C.151_Morales_Lopez_Delia_pg-025.jpg\n",
            "----------\n",
            "objectDetectionModel in 1.30 seconds.\n",
            "checkDetectionModel in 3.01 seconds.\n",
            "AGN_DFS_C.189_Padilla_Rivera_Rebeca_pg-001.jpg\n",
            "----------\n",
            "objectDetectionModel in 1.47 seconds.\n",
            "checkDetectionModel in 2.38 seconds.\n",
            "AGN_DFS_C.184_Tecla_Parra_Violeta_pg-014.jpg\n",
            "----------\n",
            "objectDetectionModel in 1.46 seconds.\n",
            "checkDetectionModel in 1.78 seconds.\n",
            "Ficheros_Brigada_Campesina_de_Ajusticiamiento_BCA_Brigada_Campesina_de_Ajusticiamiento-79-.JPG\n",
            "----------\n",
            "objectDetectionModel in 1.53 seconds.\n",
            "checkDetectionModel in 1.87 seconds.\n",
            "Ficheros_ACNR_militantes_Olea_Castaneyra_Rafel_Olea_Castaneyra_Rafael,_ACNR-19-.JPG\n",
            "----------\n",
            "objectDetectionModel in 1.26 seconds.\n",
            "checkDetectionModel in 2.54 seconds.\n",
            "AGN_DFS_C.240_Sanchez_Fuerte_Maria_Marcela_pg-000.jpg\n",
            "----------\n",
            "objectDetectionModel in 1.29 seconds.\n",
            "checkDetectionModel in 1.68 seconds.\n",
            "Ficheros_FAR,_concentrado_general_FAR,_concentrado_general-157-.JPG\n",
            "----------\n",
            "objectDetectionModel in 1.44 seconds.\n",
            "checkDetectionModel in 1.54 seconds.\n",
            "Ficheros_Detenidos_Desaparecidos_Perez_Lopez_Martha_Perez_Lopez_Martha-21-.JPG\n",
            "----------\n",
            "objectDetectionModel in 1.11 seconds.\n",
            "checkDetectionModel in 1.56 seconds.\n",
            "Ficheros_Detenidos_Desaparecidos_Morales_Lopez_Delia_Morales_Lopez_Delia-23-.JPG\n",
            "----------\n",
            "objectDetectionModel in 2.77 seconds.\n",
            "checkDetectionModel in 1.64 seconds.\n",
            "Ficheros_Represores_Martinez_Adame_Arturo_Martinez_Adame_Arturo-31-.JPG\n",
            "----------\n",
            "objectDetectionModel in 1.61 seconds.\n",
            "checkDetectionModel in 1.64 seconds.\n",
            "Ficheros_PPUA_Fichas_PPUA,_Fichas-98-.JPG\n",
            "----------\n",
            "objectDetectionModel in 1.54 seconds.\n",
            "checkDetectionModel in 1.66 seconds.\n",
            "Ficheros_Union_Campesina_Independiente,_fichas_UCI,_fichas-2-.JPG\n",
            "----------\n",
            "objectDetectionModel in 0.92 seconds.\n",
            "checkDetectionModel in 1.28 seconds.\n",
            "Ficheros_UAG_76-11-16_a_77-03-19_UAG,_fichas-113-.JPG\n",
            "----------\n",
            "objectDetectionModel in 1.57 seconds.\n",
            "checkDetectionModel in 1.93 seconds.\n",
            "Ficheros_UAG_73-10-29_a_73-12-07_UAG,_fichas-134-.JPG\n",
            "----------\n",
            "finished in 144.84 seconds.\n"
          ],
          "name": "stdout"
        }
      ]
    }
  ]
}