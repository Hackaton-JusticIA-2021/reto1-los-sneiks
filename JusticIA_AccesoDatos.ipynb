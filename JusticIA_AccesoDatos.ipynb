{
  "nbformat": 4,
  "nbformat_minor": 0,
  "metadata": {
    "colab": {
      "name": "JusticIA_AccesoDatos.ipynb",
      "provenance": [],
      "collapsed_sections": [],
      "include_colab_link": true
    },
    "kernelspec": {
      "name": "python3",
      "display_name": "Python 3"
    },
    "language_info": {
      "name": "python"
    }
  },
  "cells": [
    {
      "cell_type": "markdown",
      "metadata": {
        "id": "view-in-github",
        "colab_type": "text"
      },
      "source": [
        "<a href=\"https://colab.research.google.com/github/georgetegral/ModeloRepositorioJusticIA/blob/main/JusticIA_AccesoDatos.ipynb\" target=\"_parent\"><img src=\"https://colab.research.google.com/assets/colab-badge.svg\" alt=\"Open In Colab\"/></a>"
      ]
    },
    {
      "cell_type": "code",
      "metadata": {
        "colab": {
          "base_uri": "https://localhost:8080/"
        },
        "id": "uI1vV0Vqdv6k",
        "outputId": "a60f9cdd-c893-46d4-a933-dd01638cf760"
      },
      "source": [
        "from google.colab import drive\n",
        "drive.mount('/content/drive')"
      ],
      "execution_count": null,
      "outputs": [
        {
          "output_type": "stream",
          "text": [
            "Mounted at /content/drive\n"
          ],
          "name": "stdout"
        }
      ]
    },
    {
      "cell_type": "code",
      "metadata": {
        "colab": {
          "base_uri": "https://localhost:8080/",
          "height": 206
        },
        "id": "IjGtsOiQKEb_",
        "outputId": "5566e0a0-ba43-4d87-db78-adbc5ae7682f"
      },
      "source": [
        "import pandas as pd\n",
        "\n",
        "in_dir = 'drive/MyDrive/Colab Notebooks/RII AA Hackathon/Datos - Hackathon JusticIA/'\n",
        "in_file = 'JusticIA_DatosTranscripciones.csv'\n",
        "\n",
        "df = pd.read_csv(in_dir+in_file)\n",
        "df.tail()"
      ],
      "execution_count": null,
      "outputs": [
        {
          "output_type": "execute_result",
          "data": {
            "text/html": [
              "<div>\n",
              "<style scoped>\n",
              "    .dataframe tbody tr th:only-of-type {\n",
              "        vertical-align: middle;\n",
              "    }\n",
              "\n",
              "    .dataframe tbody tr th {\n",
              "        vertical-align: top;\n",
              "    }\n",
              "\n",
              "    .dataframe thead th {\n",
              "        text-align: right;\n",
              "    }\n",
              "</style>\n",
              "<table border=\"1\" class=\"dataframe\">\n",
              "  <thead>\n",
              "    <tr style=\"text-align: right;\">\n",
              "      <th></th>\n",
              "      <th>Fuente</th>\n",
              "      <th>Conjunto</th>\n",
              "      <th>NombreArchivo</th>\n",
              "      <th>Texto</th>\n",
              "      <th>MetodoTexto</th>\n",
              "    </tr>\n",
              "  </thead>\n",
              "  <tbody>\n",
              "    <tr>\n",
              "      <th>2954</th>\n",
              "      <td>Expedientes AGN</td>\n",
              "      <td>Expedientes</td>\n",
              "      <td>AGN_DFS_TARJETAS_Morales_Lopez_Delia_Cirila_pg...</td>\n",
              "      <td>NaN</td>\n",
              "      <td>NaN</td>\n",
              "    </tr>\n",
              "    <tr>\n",
              "      <th>2955</th>\n",
              "      <td>Expedientes AGN</td>\n",
              "      <td>Expedientes</td>\n",
              "      <td>AGN_DFS_TARJETAS_Morales_Lopez_Delia_Cirila_pg...</td>\n",
              "      <td>NaN</td>\n",
              "      <td>NaN</td>\n",
              "    </tr>\n",
              "    <tr>\n",
              "      <th>2956</th>\n",
              "      <td>Expedientes AGN</td>\n",
              "      <td>Expedientes</td>\n",
              "      <td>AGN_DFS_TARJETAS_Morales_Lopez_Delia_Cirila_pg...</td>\n",
              "      <td>NaN</td>\n",
              "      <td>NaN</td>\n",
              "    </tr>\n",
              "    <tr>\n",
              "      <th>2957</th>\n",
              "      <td>Expedientes AGN</td>\n",
              "      <td>Expedientes</td>\n",
              "      <td>AGN_DFS_TARJETAS_Morales_Lopez_Delia_Cirila_pg...</td>\n",
              "      <td>NaN</td>\n",
              "      <td>NaN</td>\n",
              "    </tr>\n",
              "    <tr>\n",
              "      <th>2958</th>\n",
              "      <td>Expedientes AGN</td>\n",
              "      <td>Expedientes</td>\n",
              "      <td>AGN_DFS_TARJETAS_Morales_Lopez_Delia_Cirila_pg...</td>\n",
              "      <td>NaN</td>\n",
              "      <td>NaN</td>\n",
              "    </tr>\n",
              "  </tbody>\n",
              "</table>\n",
              "</div>"
            ],
            "text/plain": [
              "               Fuente     Conjunto  ... Texto MetodoTexto\n",
              "2954  Expedientes AGN  Expedientes  ...   NaN         NaN\n",
              "2955  Expedientes AGN  Expedientes  ...   NaN         NaN\n",
              "2956  Expedientes AGN  Expedientes  ...   NaN         NaN\n",
              "2957  Expedientes AGN  Expedientes  ...   NaN         NaN\n",
              "2958  Expedientes AGN  Expedientes  ...   NaN         NaN\n",
              "\n",
              "[5 rows x 5 columns]"
            ]
          },
          "metadata": {},
          "execution_count": 3
        }
      ]
    },
    {
      "cell_type": "code",
      "metadata": {
        "colab": {
          "base_uri": "https://localhost:8080/"
        },
        "id": "C-e99jygddE7",
        "outputId": "ef1a7643-764e-4c49-c3d3-3f6616d7463f"
      },
      "source": [
        "import PIL\n",
        "\n",
        "from glob import glob\n",
        "from random import sample\n",
        "\n",
        "def get_width_and_height(file_name):\n",
        "    image = PIL.Image.open(file_name)\n",
        "    return image.size\n",
        "    \n",
        "files = glob(in_dir+'/*/*.*')\n",
        "files = sample(files, 20)\n",
        "\n",
        "for file_name in files:\n",
        "    width, height = get_width_and_height(file_name)\n",
        "    print(width, height, file_name)"
      ],
      "execution_count": null,
      "outputs": [
        {
          "output_type": "stream",
          "text": [
            "4608 3456 drive/MyDrive/Colab Notebooks/RII AA Hackathon/Datos - Hackathon JusticIA/Fichas_manual/Ficheros_UAG_76-04-05_a_76-11-15_UAG,_fichas-94-.JPG\n",
            "3456 2592 drive/MyDrive/Colab Notebooks/RII AA Hackathon/Datos - Hackathon JusticIA/Expedientes/AGN_DFS_C.18_2_de_2_Cabrera_Arenas_Emma_pg-279.jpg\n",
            "4608 3456 drive/MyDrive/Colab Notebooks/RII AA Hackathon/Datos - Hackathon JusticIA/Fichas_auto/Ficheros_Represores_Figueroa_Figueroa_Ruben_Figueroa_Figueroa_Ruben_2_De_79-07-20_a_83-06-04,_FIGUEROA_FIGUEROA,_Ruben-65-.JPG\n",
            "2304 1728 drive/MyDrive/Colab Notebooks/RII AA Hackathon/Datos - Hackathon JusticIA/Fichas_manual/Ficheros_Brigada_Campesina_de_Ajusticiamiento_BCA_Comisiones_Brigada_Campesina_de_Ajusticiamiento,_Comisiones-89-.JPG\n",
            "1920 1080 drive/MyDrive/Colab Notebooks/RII AA Hackathon/Datos - Hackathon JusticIA/Expedientes/AGN_DFS_C.18_1_de_2_Cabrera_Arenas_Emma_pg-341.jpg\n",
            "2304 1728 drive/MyDrive/Colab Notebooks/RII AA Hackathon/Datos - Hackathon JusticIA/Fichas_manual/Ficheros_Detenidos_Desaparecidos_Juarez_Enrique_Juarez_Enrique-3-.JPG\n",
            "1920 1080 drive/MyDrive/Colab Notebooks/RII AA Hackathon/Datos - Hackathon JusticIA/Expedientes/AGN_DFS_C.18_1_de_2_Cabrera_Arenas_Emma_pg-027.jpg\n",
            "4608 3456 drive/MyDrive/Colab Notebooks/RII AA Hackathon/Datos - Hackathon JusticIA/Fichas_auto/Ficheros_Detenidos_Desaparecidos_Perez_Lopez_Martha_Perez_Lopez_Martha-21-.JPG\n",
            "4608 3456 drive/MyDrive/Colab Notebooks/RII AA Hackathon/Datos - Hackathon JusticIA/Fichas_manual/Ficheros_ACNR_militantes_Sanchez_Antonio_Vicente_Irais_IMG_7918.JPG\n",
            "4608 3456 drive/MyDrive/Colab Notebooks/RII AA Hackathon/Datos - Hackathon JusticIA/Fichas_manual/Ficheros_UAG_75-07-03_a_76-04-05_UAG,_fichas-15-.JPG\n",
            "4608 3456 drive/MyDrive/Colab Notebooks/RII AA Hackathon/Datos - Hackathon JusticIA/Fichas_auto/Ficheros_VARP_VARP_4_IMG_5707.JPG\n",
            "2304 1728 drive/MyDrive/Colab Notebooks/RII AA Hackathon/Datos - Hackathon JusticIA/Fichas_manual/Ficheros_Detenidos_Desaparecidos_Mendez_Alvarado_Maria_de_Jesus_Mendez_Alvarado_Maria_de_Jesus-92-.JPG\n",
            "2304 1728 drive/MyDrive/Colab Notebooks/RII AA Hackathon/Datos - Hackathon JusticIA/Fichas_manual/Ficheros_Detenidos_Desaparecidos_Estrada_Ramirez_Ana_Estrada_Ramirez_Ana-19-.JPG\n",
            "2304 1728 drive/MyDrive/Colab Notebooks/RII AA Hackathon/Datos - Hackathon JusticIA/Fichas_auto/Ficheros_Detenidos_Desaparecidos_Benavides_Alcocer_Carlos_Benavides_Alcocer_Carlos-4-.JPG\n",
            "2304 1728 drive/MyDrive/Colab Notebooks/RII AA Hackathon/Datos - Hackathon JusticIA/Fichas_manual/Ficheros_Detenidos_Desaparecidos_Messino_Galicia_Julio_Messino_Galicia_Julio-1-.JPG\n",
            "4608 3456 drive/MyDrive/Colab Notebooks/RII AA Hackathon/Datos - Hackathon JusticIA/Fichas_manual/Ficheros_PDLP_Brigada_Campesina_de_Ajusticiamiento_BCA,_fichas-48-.JPG\n",
            "3456 2592 drive/MyDrive/Colab Notebooks/RII AA Hackathon/Datos - Hackathon JusticIA/Expedientes/AGN_DFS_C.18_2_de_2_Cabrera_Arenas_Emma_pg-235.jpg\n",
            "2592 1944 drive/MyDrive/Colab Notebooks/RII AA Hackathon/Datos - Hackathon JusticIA/Fichas_manual/Ficheros_Asociacion_Civica_Guerrerense_82-01-22_a_83-11-12_ACG_fichas-1-.JPG\n",
            "4608 3456 drive/MyDrive/Colab Notebooks/RII AA Hackathon/Datos - Hackathon JusticIA/Fichas_manual/Ficheros_Represores_Lopez_Figueroa_Victorico_IMG_6656.JPG\n",
            "4608 3456 drive/MyDrive/Colab Notebooks/RII AA Hackathon/Datos - Hackathon JusticIA/Fichas_manual/Ficheros_Represores_Morales_Cuevas_Arnulfo_IMG_6684.JPG\n"
          ],
          "name": "stdout"
        }
      ]
    },
    {
      "cell_type": "code",
      "metadata": {
        "colab": {
          "base_uri": "https://localhost:8080/"
        },
        "id": "2l_ApCdddc6B",
        "outputId": "62636ef0-1462-4a8a-e31d-54572992d391"
      },
      "source": [
        "df_long = df[df['Texto'].str.len()>2000]\n",
        "\n",
        "for dir, fil in zip(df_long['Conjunto'].values, df_long['NombreArchivo'].values):\n",
        "    file_name = in_dir + dir + '/' + fil\n",
        "    width, height = get_width_and_height(file_name)\n",
        "    print(width, height, file_name)"
      ],
      "execution_count": null,
      "outputs": [
        {
          "output_type": "stream",
          "text": [
            "3456 4608 drive/MyDrive/Colab Notebooks/RII AA Hackathon/Datos - Hackathon JusticIA/Fichas_manual/Ficheros_UPCEG,_Version_Publica-59-04-09_a_85-12-04-,_Guerrero_UPCEG,_2_de_4-67-04-21_a_69-09-18-_2_de_4-67-04-21_a_69-09-18-33-.JPG\n",
            "4608 3456 drive/MyDrive/Colab Notebooks/RII AA Hackathon/Datos - Hackathon JusticIA/Fichas_auto/Ficheros_Corral_Garcia_Salvador,_Version_Publica_Corral_Garcia_Salvador,_Version_Publica-147-.JPG\n",
            "4608 3456 drive/MyDrive/Colab Notebooks/RII AA Hackathon/Datos - Hackathon JusticIA/Fichas_auto/Ficheros_Detenidos_Desaparecidos_Arenas_Bautista_Marcelo_74-08-09,_ARENAS_BAUTISTA,_Marcelo-10-.JPG\n",
            "4608 3456 drive/MyDrive/Colab Notebooks/RII AA Hackathon/Datos - Hackathon JusticIA/Fichas_auto/Ficheros_Esparza_Flores_Jose_Luis_Esparza_Flores_Jose_Luis-23-.JPG\n",
            "4608 3456 drive/MyDrive/Colab Notebooks/RII AA Hackathon/Datos - Hackathon JusticIA/Fichas_auto/Ficheros_Esparza_Flores_Jose_Luis_Esparza_Flores_Jose_Luis-26-.JPG\n",
            "4608 3456 drive/MyDrive/Colab Notebooks/RII AA Hackathon/Datos - Hackathon JusticIA/Fichas_auto/Ficheros_Frente_Armado_del_Pueblo_Fichas_Frente_Armado_del_Pueblo,_fichas-66-.JPG\n",
            "4608 3456 drive/MyDrive/Colab Notebooks/RII AA Hackathon/Datos - Hackathon JusticIA/Fichas_auto/Ficheros_Gobernadores_Abarca_Alarcon_62-04-24_a_64-03-31,_ABARCA_ALARCON,_Raymundo_ABARCA_ALARCON,_Raymundo_fichas-92-.JPG\n",
            "4608 3456 drive/MyDrive/Colab Notebooks/RII AA Hackathon/Datos - Hackathon JusticIA/Fichas_auto/Ficheros_PDLP_72-06-25_a_74-08-22_IMG_0281.JPG\n",
            "4608 3456 drive/MyDrive/Colab Notebooks/RII AA Hackathon/Datos - Hackathon JusticIA/Fichas_auto/Ficheros_PDLP_72-06-25_a_74-08-22_IMG_0325.JPG\n",
            "4608 3456 drive/MyDrive/Colab Notebooks/RII AA Hackathon/Datos - Hackathon JusticIA/Fichas_auto/Ficheros_PDLP_74-08-11_a_79-04-10_PDLP_Fichas-87-.JPG\n",
            "4608 3456 drive/MyDrive/Colab Notebooks/RII AA Hackathon/Datos - Hackathon JusticIA/Fichas_auto/Ficheros_PDLP_Brigada_Campesina_de_Ajusticiamiento_2_BCA_2,_fichas-1-.JPG\n",
            "4608 3456 drive/MyDrive/Colab Notebooks/RII AA Hackathon/Datos - Hackathon JusticIA/Fichas_auto/Ficheros_Policia_de_Guerrero_IMG_0327.JPG\n",
            "4608 3456 drive/MyDrive/Colab Notebooks/RII AA Hackathon/Datos - Hackathon JusticIA/Fichas_auto/Ficheros_UAG_60-05-13_a_65-03-24_UAG_fichas-71-.JPG\n",
            "4608 3456 drive/MyDrive/Colab Notebooks/RII AA Hackathon/Datos - Hackathon JusticIA/Fichas_auto/Ficheros_VARP_DFS,_Fichas_VARP_DFS,_fichas,_VARP-96-.JPG\n",
            "4608 3456 drive/MyDrive/Colab Notebooks/RII AA Hackathon/Datos - Hackathon JusticIA/Fichas_auto/Ficheros_VARP_VARP_1_VARP,_fichas-64-.JPG\n",
            "4608 3456 drive/MyDrive/Colab Notebooks/RII AA Hackathon/Datos - Hackathon JusticIA/Fichas_auto/Ficheros_VARP_VARP_5_100-10-16-4,_L_8-34-.JPG\n",
            "4608 3456 drive/MyDrive/Colab Notebooks/RII AA Hackathon/Datos - Hackathon JusticIA/Fichas_auto/Ficheros_VARP_VARP_6_IMG_5746.JPG\n"
          ],
          "name": "stdout"
        }
      ]
    },
    {
      "cell_type": "code",
      "metadata": {
        "colab": {
          "base_uri": "https://localhost:8080/"
        },
        "id": "V3RztetIfjRD",
        "outputId": "d3715f3e-9202-4c32-aa68-d7f833aa48c0"
      },
      "source": [
        "!pip install pdf2image"
      ],
      "execution_count": null,
      "outputs": [
        {
          "output_type": "stream",
          "text": [
            "Collecting pdf2image\n",
            "  Downloading pdf2image-1.16.0-py3-none-any.whl (10 kB)\n",
            "Requirement already satisfied: pillow in /usr/local/lib/python3.7/dist-packages (from pdf2image) (7.1.2)\n",
            "Installing collected packages: pdf2image\n",
            "Successfully installed pdf2image-1.16.0\n"
          ],
          "name": "stdout"
        }
      ]
    },
    {
      "cell_type": "code",
      "metadata": {
        "colab": {
          "base_uri": "https://localhost:8080/"
        },
        "id": "GHIQQ1WXdqUh",
        "outputId": "0e255e6d-06c0-42ee-c901-d44ed5035289"
      },
      "source": [
        "import os\n",
        "from PIL import Image\n",
        "from distutils.dir_util import copy_tree\n",
        "from pdf2image import convert_from_path\n",
        "from math import ceil, floor\n",
        "import requests\n",
        "import json\n",
        "import csv\n",
        "import time\n",
        "\n",
        "#path =r'./imgtmp/'\n",
        "path =r'drive/MyDrive/Colab Notebooks/RII AA Hackathon/imgtmp/'\n",
        "path_2=r'drive/MyDrive/Colab Notebooks/RII AA Hackathon/imgresult/'\n",
        "list_of_files = []\n",
        "\n",
        "def copyImages(fromDirectory,toDirectory):\n",
        "  copy_tree(fromDirectory, toDirectory)\n",
        "\n",
        "\n",
        "#Function to check if returned JSON has all the necessary fields in each nested field of the JSON\n",
        "def checkValueField(rs,field,i,var):\n",
        "    val = \"\"\n",
        "    try:\n",
        "        val = rs[field][i][var]\n",
        "    except ValueError:\n",
        "        val = \"\"\n",
        "    except KeyError:\n",
        "        val = \"\"\n",
        "    finally:\n",
        "        return val\n",
        "\n",
        "def convertPdf(path, file):\n",
        "    s = time.perf_counter()\n",
        "    fullpath = path + file\n",
        "    images = convert_from_path(fullpath)\n",
        "    name = file.split('.pdf')[0]\n",
        "    nameJpg = name +'.jpg'\n",
        "    for i in range(len(images)):\n",
        "        # Save pages as images in the pdf\n",
        "        images[i].save(path + nameJpg, 'JPEG')\n",
        "    print(f'convertPdf in {time.perf_counter() - s:0.2f} seconds.')\n",
        "    return nameJpg\n",
        "\n",
        "def orientationModel(path, file):\n",
        "    s = time.perf_counter()\n",
        "    #Request to orientation model\n",
        "    with open(path+file, 'rb') as f:\n",
        "        data = f.read()\n",
        "    req = requests.post(\n",
        "        url=\"https://cscvriia-prediction.cognitiveservices.azure.com/customvision/v3.0/Prediction/2bb8fee1-6413-418c-9c6e-3c41629397ce/classify/iterations/Iteration2/image\",\n",
        "        headers={\n",
        "            \"Content-Type\": \"application/octet-stream\",\n",
        "            \"Prediction-Key\": \"bac8aef998f94f04b527450124a7864a\"\n",
        "        },\n",
        "        data = data\n",
        "    )\n",
        "    result = json.loads(req.content)\n",
        "    tag = result['predictions'][0]['tagName']\n",
        "    print(f'orientationModel in {time.perf_counter() - s:0.2f} seconds.')\n",
        "    return int(tag)\n",
        "\n",
        "def removeExif(path, file):\n",
        "    s = time.perf_counter()\n",
        "    fullpath = path + file\n",
        "    image = Image.open(fullpath)\n",
        "    # next 4 lines strip exif metadata\n",
        "    data = list(image.getdata())\n",
        "    im = Image.new(image.mode, image.size)\n",
        "    im.putdata(data)\n",
        "    im.save(fullpath)\n",
        "    print(f'removeExif in {time.perf_counter() - s:0.2f} seconds.')\n",
        "\n",
        "def rotateFile(path, file, orientation):\n",
        "    s = time.perf_counter()\n",
        "    fullpath = path + file\n",
        "    im = Image.open(fullpath)\n",
        "\n",
        "    if orientation == 90:\n",
        "        im = im.transpose(Image.ROTATE_90)\n",
        "        im.save(fullpath,'JPEG')\n",
        "\n",
        "    elif orientation == 180:\n",
        "        im = im.transpose(Image.ROTATE_180)\n",
        "        im.save(fullpath,'JPEG')\n",
        "\n",
        "    elif orientation == 270:\n",
        "        im = im.transpose(Image.ROTATE_270)\n",
        "        im.save(fullpath,'JPEG')\n",
        "    print(f'rotateFile in {time.perf_counter() - s:0.2f} seconds.')\n",
        "\n",
        "def getImageSize(path, file):\n",
        "    im = Image.open(path+file)\n",
        "    return int(im.width),int(im.height)\n",
        "\n",
        "def roundNum(num):\n",
        "    decimal = num % 1\n",
        "    if decimal >= .5:\n",
        "        return ceil(num)\n",
        "    else:\n",
        "        return floor(num)\n",
        "\n",
        "def calculateBoundingBox(left, top, width, height, widthImg, heightImg):\n",
        "    #https://stackoverflow.com/questions/53737055/bounding-box-left-top-height-width-to-php-x1-x2-y1-y2-coordinates\n",
        "    w = widthImg *  width\n",
        "    h = heightImg * height\n",
        "\n",
        "    xmin = left * widthImg\n",
        "    ymin = top * heightImg\n",
        "    xmax = xmin + w\n",
        "    ymax = ymin + h\n",
        "\n",
        "    return roundNum(xmin), roundNum(ymin), roundNum(xmax), roundNum(ymax)\n",
        "\n",
        "def objectDetectionModel(path, file, width, height):\n",
        "    s = time.perf_counter()\n",
        "    #request to Object Detection Model\n",
        "    with open(path+file, 'rb') as f:\n",
        "        data = f.read()\n",
        "    req = requests.post(\n",
        "        url=\"https://cscvriia-prediction.cognitiveservices.azure.com/customvision/v3.0/Prediction/c2380253-45d3-4804-9c76-093802973de6/detect/iterations/Iteration2/image\",\n",
        "        headers={\n",
        "            \"Content-Type\": \"application/octet-stream\",\n",
        "            \"Prediction-Key\": \"bac8aef998f94f04b527450124a7864a\"\n",
        "        },\n",
        "        data = data\n",
        "    )\n",
        "    result = json.loads(req.content)\n",
        "    finalResult = {}\n",
        "    #Ignore probability below 0.5\n",
        "    i = 0\n",
        "    acum = 0\n",
        "    while checkValueField(result,'predictions',i,'probability'):\n",
        "        probability = checkValueField(result,'predictions',i,'probability')\n",
        "        if probability >= 0.5:\n",
        "            tagName = checkValueField(result,'predictions',i,'tagName')\n",
        "            boundingBoxLeft = result['predictions'][i]['boundingBox']['left']\n",
        "            boundingBoxTop = result['predictions'][i]['boundingBox']['top']\n",
        "            boundingBoxWidth = result['predictions'][i]['boundingBox']['width']\n",
        "            boundingBoxHeight = result['predictions'][i]['boundingBox']['height']\n",
        "            xmin, ymin, xmax, ymax = calculateBoundingBox(boundingBoxLeft, boundingBoxTop, boundingBoxWidth, boundingBoxHeight, width, height)\n",
        "            finalResult[acum] = [tagName, probability, xmin, ymin, xmax, ymax]\n",
        "            acum += 1\n",
        "        \n",
        "        i += 1\n",
        "\n",
        "    print(f'objectDetectionModel in {time.perf_counter() - s:0.2f} seconds.')\n",
        "    return finalResult\n",
        "\n",
        "def createCsv(prefix):\n",
        "    with open(prefix+'results.csv', 'w', newline='') as file:\n",
        "        writer = csv.writer(file)\n",
        "        writer.writerow(['filename','width','height','class','xmin','ymin','xmax','ymax'])\n",
        "\n",
        "def appendCsv(filename, width, height, result,prefix):\n",
        "    with open(prefix+'results.csv', 'a+', newline='') as file:\n",
        "        writer = csv.writer(file)\n",
        "        #For loop each result\n",
        "        for i in result:\n",
        "            writer.writerow([filename, width, height, result[i][0], result[i][2], result[i][3], result[i][4], result[i][5]])\n",
        "\n",
        "for root, dirs, files in os.walk(path):\n",
        "    for file in files:\n",
        "        if file == '.DS_Store':\n",
        "            continue\n",
        "        list_of_files.append(os.path.join(file))\n",
        "\n",
        "s = time.perf_counter()\n",
        "\n",
        "#Limpiar Fotos\n",
        "for file in list_of_files:\n",
        "    removeExif(path, file)\n",
        "#Copiar imagenes de folder 1 a folder 2\n",
        "copyImages(path,path_2)\n",
        "prefix = path_2\n",
        "createCsv(prefix)\n",
        "\n",
        "for file in list_of_files:\n",
        "    #Si el archivo es pdf, convertirlo a jpg\n",
        "    if file.endswith('.pdf'):\n",
        "        file = convertPdf(prefix, file)\n",
        "    #Obtener la orientacion del archivo\n",
        "    orientation = orientationModel(prefix, file)\n",
        "    #Rotar la imagen\n",
        "    rotateFile(prefix, file, orientation)\n",
        "    #Obtener ancho y largo de la foto\n",
        "    width, height = getImageSize(prefix, file)\n",
        "    #Llamar al modelo de detección de objetos\n",
        "    result = objectDetectionModel(prefix, file, width, height)\n",
        "    #Adjuntar a un csv\n",
        "    appendCsv(file, width, height, result,prefix)\n",
        "    print(file)\n",
        "    print(\"----------\")\n",
        "\n",
        "\n",
        "print(f'finished in {time.perf_counter() - s:0.2f} seconds.')"
      ],
      "execution_count": null,
      "outputs": [
        {
          "output_type": "stream",
          "text": [
            "removeExif in 0.25 seconds.\n",
            "orientationModel in 0.88 seconds.\n",
            "rotateFile in 0.05 seconds.\n",
            "objectDetectionModel in 0.80 seconds.\n",
            "derecha.jpeg\n",
            "----------\n",
            "finished in 2.05 seconds.\n"
          ],
          "name": "stdout"
        }
      ]
    },
    {
      "cell_type": "code",
      "metadata": {
        "id": "iu_Irc8Adctk"
      },
      "source": [
        ""
      ],
      "execution_count": null,
      "outputs": []
    }
  ]
}